{
 "cells": [
  {
   "cell_type": "code",
   "execution_count": 1,
   "metadata": {
    "collapsed": true
   },
   "outputs": [],
   "source": [
    "from transformers import AutoTokenizer ,AutoModelForCausalLM\n",
    "import re"
   ]
  },
  {
   "cell_type": "code",
   "execution_count": 56,
   "outputs": [],
   "source": [
    "# Speller and punctuation\n",
    "\n",
    "import os\n",
    "import yaml\n",
    "import torch\n",
    "from torch import package\n",
    "\n",
    "torch.hub.download_url_to_file('https://raw.githubusercontent.com/snakers4/silero-models/master/models.yml',\n",
    "                               'latest_silero_models.yml',\n",
    "                               progress=False)\n",
    "\n",
    "with open('latest_silero_models.yml', 'r') as yaml_file:\n",
    "    models = yaml.load(yaml_file, Loader=yaml.SafeLoader)\n",
    "model_conf = models.get('te_models').get('latest')"
   ],
   "metadata": {
    "collapsed": false
   }
  },
  {
   "cell_type": "code",
   "execution_count": 57,
   "outputs": [
    {
     "data": {
      "text/plain": "  0%|          | 0.00/87.5M [00:00<?, ?B/s]",
      "application/vnd.jupyter.widget-view+json": {
       "version_major": 2,
       "version_minor": 0,
       "model_id": "2c9c9ff9721046ad89665fbf4f6dd275"
      }
     },
     "metadata": {},
     "output_type": "display_data"
    }
   ],
   "source": [
    "# Prepare punctuation fix for test\n",
    "model_url = model_conf.get('package')\n",
    "\n",
    "model_dir = \"downloaded_model\"\n",
    "os.makedirs(model_dir, exist_ok=True)\n",
    "model_path = os.path.join(model_dir, os.path.basename(model_url))\n",
    "\n",
    "if not os.path.isfile(model_path):\n",
    "    torch.hub.download_url_to_file(model_url,\n",
    "                                   model_path,\n",
    "                                   progress=True)\n",
    "\n",
    "imp = package.PackageImporter(model_path)\n",
    "model = imp.load_pickle(\"te_model\", \"model\")\n",
    "\n",
    "def apply_te(text, lan='ru'):\n",
    "    return model.enhance_text(text, lan)"
   ],
   "metadata": {
    "collapsed": false
   }
  },
  {
   "cell_type": "code",
   "execution_count": 2,
   "outputs": [],
   "source": [
    "# util function to get expected len after tokenizing\n",
    "def get_length_param(text: str, tokenizer) -> str:\n",
    "    tokens_count = len(tokenizer.encode(text))\n",
    "    if tokens_count <= 15:\n",
    "        len_param = '1'\n",
    "    elif tokens_count <= 50:\n",
    "        len_param = '2'\n",
    "    elif tokens_count <= 256:\n",
    "        len_param = '3'\n",
    "    else:\n",
    "        len_param = '-'\n",
    "    return len_param"
   ],
   "metadata": {
    "collapsed": false
   }
  },
  {
   "cell_type": "code",
   "execution_count": 3,
   "outputs": [],
   "source": [
    "def remove_duplicates(S):\n",
    "    S = re.sub(r'[a-zA-Z]+', '', S) #Remove english\n",
    "    S = S.split()\n",
    "    result = \"\"\n",
    "    for subst in S:\n",
    "        if subst not in result:\n",
    "            result += subst+\" \"\n",
    "    return result.rstrip()"
   ],
   "metadata": {
    "collapsed": false
   }
  },
  {
   "cell_type": "code",
   "execution_count": 4,
   "outputs": [],
   "source": [
    "fit_checkpoint = \"WarBot\"\n",
    "tokenizer = AutoTokenizer.from_pretrained(fit_checkpoint)\n",
    "model = AutoModelForCausalLM.from_pretrained(fit_checkpoint)"
   ],
   "metadata": {
    "collapsed": false
   }
  },
  {
   "cell_type": "code",
   "execution_count": 36,
   "outputs": [],
   "source": [
    "quote = \"Это хорошо, но глядя на ролик, когда ефиопские толпы в Израиле громят машины и нападают на улице на израильтян - задумаешься, куда все движется.\\\n",
    "Особенно запомнилась картина, когда на проезжающий авто набрасывается штук десять негров и бьют его камнями, запрыгивают на капот и крышу, пытаются через лобовик достать парня-водителя. Жутковато. И им это сошло с рук.\""
   ],
   "metadata": {
    "collapsed": false
   }
  },
  {
   "cell_type": "code",
   "execution_count": 37,
   "outputs": [
    {
     "name": "stdout",
     "output_type": "stream",
     "text": [
      "90\n"
     ]
    }
   ],
   "source": [
    "# encode the input, add the eos_token and return a tensor in Pytorch\n",
    "user_inpit_ids = tokenizer.encode(f\"|0|{get_length_param(quote, tokenizer)}|\" \\\n",
    "                                              + quote + tokenizer.eos_token, return_tensors=\"pt\")\n",
    "\n",
    "chat_history_ids = user_inpit_ids # To be changed\n",
    "\n",
    "tokens_count = len(tokenizer.encode(quote))\n",
    "if tokens_count < 15:\n",
    "    no_repeat_ngram_size = 2\n",
    "else:\n",
    "    no_repeat_ngram_size = 1\n",
    "\n",
    "output_id = model.generate(\n",
    "            chat_history_ids,\n",
    "            num_return_sequences=2, # use for more variants, but have to print [i]\n",
    "            max_length=300, #512\n",
    "            no_repeat_ngram_size=no_repeat_ngram_size, #3\n",
    "            do_sample=True, #True\n",
    "            top_k=50,#50\n",
    "            top_p=0.9, #0.9\n",
    "            temperature = 0.4, # was 0.6, 0 for greedy\n",
    "            #mask_token_id=tokenizer.mask_token_id,\n",
    "            eos_token_id=tokenizer.eos_token_id,\n",
    "            #unk_token_id=tokenizer.unk_token_id,\n",
    "            pad_token_id=tokenizer.pad_token_id,\n",
    "            #pad_token_id=tokenizer.eos_token_id,\n",
    "            #device='cpu'\n",
    "        )"
   ],
   "metadata": {
    "collapsed": false
   }
  },
  {
   "cell_type": "code",
   "execution_count": 8,
   "outputs": [],
   "source": [
    "def removeSigns(S):\n",
    "    last_index = max(S.rfind(\".\"), S.rfind(\"!\"))\n",
    "    if last_index >= 0:\n",
    "        S = S[:last_index+1]\n",
    "    return S"
   ],
   "metadata": {
    "collapsed": false
   }
  },
  {
   "cell_type": "code",
   "execution_count": 63,
   "outputs": [],
   "source": [
    "def getResponce():\n",
    "    response = tokenizer.decode(output_id[0], skip_special_tokens=True)\n",
    "    response = removeSigns(response)\n",
    "    response = response.split(quote)[-1] #Remove the Quote\n",
    "    response = re.sub(r'[^0-9А-Яа-яЁёa-zA-z;., !()-+:?]', '', response) # Clear the response, remains only alpha-numerical values\n",
    "    response = remove_duplicates(re.sub(r\"\\d{4,}\", \"\", response)) # Remove the consequent numbers with 4 or more digits\n",
    "    return response"
   ],
   "metadata": {
    "collapsed": false
   }
  },
  {
   "cell_type": "code",
   "execution_count": 64,
   "outputs": [
    {
     "name": "stdout",
     "output_type": "stream",
     "text": [
      "Response: я не знаю как там было у вас...но вот вам видео из ливана: эти граждане (в плохом смысле слова) просто тупо ломанулись внутрь! сожалению они были безоружны еще вооружены до зубов....и их всех убили..так что лучше сразу стреляли мне хотябы пытались зайти комне под видом друзей..... готов стрелять хоть сейчас....а потом думал может быть таки стоит подумать где мой пистолет дома если вдруг придется применить...как так..подумайте сами господа...... зызыы для тех кто тут оружие, вы поняли меня правильно! спасибо большое. буду знать теперь обязательно кого нибудь пристрелят случае ))) псы!!! вообщем говоря ситуация такая 1 группа была сама хамасниками поэтому должныватся 2 другая часть которые хотели жить вместе(ну скажем каждый себе злобный буратино).\n"
     ]
    }
   ],
   "source": [
    "print(\"Response:\",getResponce())"
   ],
   "metadata": {
    "collapsed": false
   }
  },
  {
   "cell_type": "markdown",
   "source": [
    "Punctuation:"
   ],
   "metadata": {
    "collapsed": false
   }
  },
  {
   "cell_type": "code",
   "execution_count": 65,
   "outputs": [
    {
     "name": "stdout",
     "output_type": "stream",
     "text": [
      "Я не знаю, как там было у вас...но вот вам видео из [UNK] Эти граждане (в плохом смысле слова) просто тупо ломанулись внутрь!. Сожалению, они были безоружны еще вооружены до зубов....и их всех убили..так, что лучше сразу стреляли мне, хотябы пытались зайти комне под видом друзей..... готов стрелять хоть сейчас....а Потом думал может быть таки стоит подумать, где мой пистолет дома, если вдруг придется применить...как так..подумайте сами господа...... зызыы для тех, кто тут оружие, вы поняли меня правильно.! спасибо большое. буду знать теперь обязательно кого-нибудь пристрелят случае ))) псы!!! вообщем говоря ситуация. Такая 1. Группа была сама хамасниками, поэтому должныватся 2. Другая часть, которые хотели жить вместе(ну скажем каждый себе злобный буратино)..\n"
     ]
    }
   ],
   "source": [
    "input_text = getResponce()\n",
    "output_text = apply_te(input_text, lan='ru')\n",
    "print(output_text)"
   ],
   "metadata": {
    "collapsed": false
   }
  },
  {
   "cell_type": "markdown",
   "source": [
    "Spelling Fix:"
   ],
   "metadata": {
    "collapsed": false
   }
  },
  {
   "cell_type": "code",
   "execution_count": 41,
   "outputs": [],
   "source": [
    "from autocorrect import Speller\n",
    "spell = Speller('ru')\n",
    "spell_fix_response = spell(getResponce())"
   ],
   "metadata": {
    "collapsed": false
   }
  },
  {
   "cell_type": "code",
   "execution_count": 42,
   "outputs": [
    {
     "name": "stdout",
     "output_type": "stream",
     "text": [
      "я не знаю как там было у вас...но вот вам видео из лимана эти граждане плохом смысле слова просто тупо ломанулись внутрь! сожалению они были безоружны еще вооружены до зубов....и их всех убили..так что лучше сразу стреляли мне хотябы пытались зайти камне под видом друзей..... готов стрелять хоть сейчас....а потом думал может быть таки стоит подумать где мой пистолет дома если вдруг придется применить...как так..подумайте сами господа...... кызы для тех кто тут оружие, вы поняли меня правильно! спасибо большое. буду знать теперь обязательно кого нибудь пристрелят случае псы!!! вообщем говоря ситуация такая 1 группа была сама хамасниками поэтому должныватся 2 другая часть которые хотели жить вместе скажем каждый себе злобный буратино.\n"
     ]
    }
   ],
   "source": [
    "print(spell_fix_response)"
   ],
   "metadata": {
    "collapsed": false
   }
  }
 ],
 "metadata": {
  "kernelspec": {
   "display_name": "Python 3",
   "language": "python",
   "name": "python3"
  },
  "language_info": {
   "codemirror_mode": {
    "name": "ipython",
    "version": 2
   },
   "file_extension": ".py",
   "mimetype": "text/x-python",
   "name": "python",
   "nbconvert_exporter": "python",
   "pygments_lexer": "ipython2",
   "version": "2.7.6"
  }
 },
 "nbformat": 4,
 "nbformat_minor": 0
}
